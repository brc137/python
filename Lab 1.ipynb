{
 "cells": [
  {
   "cell_type": "markdown",
   "metadata": {},
   "source": [
    "# CS 0010 Lab 1\n",
    "* Brandon Chai\n",
    "* January 19, 2022"
   ]
  },
  {
   "cell_type": "markdown",
   "metadata": {},
   "source": [
    "## Markdown Exercises\n",
    "There is a lot of things in coding that bring *interest* to me, there are programs like HTML, Python, Java, adn many more. Coding is not just programming a computer or laptop, it is more like learning another language to me. Having the ability to program will allow me to expand my **opportunies** and show my **creativity** to possibly the world around me. As a person who has interest in cars and technology, I feel that programming would expand on my these enjoyments as I learn more and more things within coding and programming. Listed below is the things that I hope I can learn from SCI:\n",
    "1. HTML\n",
    "2. Python\n",
    "3. JAVA\n",
    "4. C++\n",
    "5. CSS"
   ]
  },
  {
   "cell_type": "markdown",
   "metadata": {},
   "source": [
    "![GIF](https://media.giphy.com/media/l4KibWpBGWchSqCRy/giphy.gif)\n",
    "---"
   ]
  },
  {
   "cell_type": "code",
   "execution_count": 6,
   "metadata": {},
   "outputs": [
    {
     "name": "stdout",
     "output_type": "stream",
     "text": [
      "Hi! I'm a code cell. Try changing me.\n"
     ]
    }
   ],
   "source": [
    "print(\"Hi! I'm a code cell. Try changing me.\")"
   ]
  },
  {
   "cell_type": "markdown",
   "metadata": {},
   "source": [
    "## Jupyter Notebook Exercises"
   ]
  },
  {
   "cell_type": "code",
   "execution_count": 7,
   "metadata": {},
   "outputs": [
    {
     "name": "stdin",
     "output_type": "stream",
     "text": [
      "What is your name? Brandon Chai\n"
     ]
    },
    {
     "name": "stdout",
     "output_type": "stream",
     "text": [
      "Hello Brandon Chai !\n"
     ]
    }
   ],
   "source": [
    "name = input(prompt=\"What is your name?\")\n",
    "print(\"Hello\", name, \"!\")"
   ]
  },
  {
   "cell_type": "markdown",
   "metadata": {},
   "source": [
    "In the written code above, when the code was ran, it propmpted the user to enter their name. When the user entered their name, the code took their name and placed it within the name variable and used it for the next line of code, which was to greet the user."
   ]
  },
  {
   "cell_type": "code",
   "execution_count": 11,
   "metadata": {},
   "outputs": [
    {
     "name": "stdin",
     "output_type": "stream",
     "text": [
      "What year were you born in? 2003\n"
     ]
    },
    {
     "ename": "TypeError",
     "evalue": "unsupported operand type(s) for -: 'int' and 'str'",
     "output_type": "error",
     "traceback": [
      "\u001b[0;31m---------------------------------------------------------------------------\u001b[0m",
      "\u001b[0;31mTypeError\u001b[0m                                 Traceback (most recent call last)",
      "\u001b[0;32m<ipython-input-11-9e833d329e67>\u001b[0m in \u001b[0;36m<module>\u001b[0;34m\u001b[0m\n\u001b[1;32m      1\u001b[0m \u001b[0mDOB\u001b[0m \u001b[0;34m=\u001b[0m \u001b[0minput\u001b[0m\u001b[0;34m(\u001b[0m\u001b[0mprompt\u001b[0m\u001b[0;34m=\u001b[0m\u001b[0;34m\"What year were you born in?\"\u001b[0m\u001b[0;34m)\u001b[0m\u001b[0;34m\u001b[0m\u001b[0;34m\u001b[0m\u001b[0m\n\u001b[0;32m----> 2\u001b[0;31m \u001b[0mprint\u001b[0m\u001b[0;34m(\u001b[0m\u001b[0;34m\"You are \"\u001b[0m\u001b[0;34m,\u001b[0m \u001b[0;36m2022\u001b[0m\u001b[0;34m-\u001b[0m\u001b[0mDOB\u001b[0m\u001b[0;34m,\u001b[0m\u001b[0;34m\" years old this year\"\u001b[0m\u001b[0;34m)\u001b[0m\u001b[0;34m\u001b[0m\u001b[0;34m\u001b[0m\u001b[0m\n\u001b[0m",
      "\u001b[0;31mTypeError\u001b[0m: unsupported operand type(s) for -: 'int' and 'str'"
     ]
    }
   ],
   "source": [
    "DOB = input(prompt=\"What year were you born in?\")\n",
    "print(\"You are \", 2022-DOB,\" years old this year\")"
   ]
  },
  {
   "cell_type": "markdown",
   "metadata": {},
   "source": [
    "* What did you try and modify?\n",
    "<br> In the modified code, I tried to calulate the age of the user by taking the year we are currently in and subtracting the year they were born in.\n",
    "\n",
    "* Did you get an error or did it run successfully?\n",
    "<br> In the modified code, I ended up with an error, saying that there was a \"TypeError: unsupported operand type(s) for -: 'int' and 'str'."
   ]
  },
  {
   "cell_type": "code",
   "execution_count": 13,
   "metadata": {},
   "outputs": [
    {
     "data": {
      "image/png": "[encoded data removed]",
      "text/plain": [
       "<Figure size 432x288 with 1 Axes>"
      ]
     },
     "metadata": {
      "needs_background": "light"
     },
     "output_type": "display_data"
    }
   ],
   "source": [
    "%matplotlib inline\n",
    "import pandas as pd\n",
    "# Load the PGH 311 Complaint data\n",
    "data_url = \\\n",
    "\"https://data.wprdc.org/datastore/dump/76fda9d0-69be-4dd5-8108-0de7907fc5a4\"\n",
    "complaints = pd.read_csv(data_url, parse_dates=True, index_col=\"CREATED_ON\")\n",
    "# Produce a graph that shows the number of complaints per month\n",
    "complaints.resample(\"M\").size().plot();"
   ]
  },
  {
   "cell_type": "markdown",
   "metadata": {},
   "source": [
    "In the code written above, it displays a graph after being excuted, personally I think that this chart is telling us the amounts of complaints that they have recieved in the years from 2016 to 2022."
   ]
  },
  {
   "cell_type": "markdown",
   "metadata": {},
   "source": [
    "![GIF](https://media.giphy.com/media/DrJm6F9poo4aA/giphy.gif)"
   ]
  }
 ],
 "metadata": {
  "kernelspec": {
   "display_name": "Python 3",
   "language": "python",
   "name": "python3"
  },
  "language_info": {
   "codemirror_mode": {
    "name": "ipython",
    "version": 3
   },
   "file_extension": ".py",
   "mimetype": "text/x-python",
   "name": "python",
   "nbconvert_exporter": "python",
   "pygments_lexer": "ipython3",
   "version": "3.8.3"
  }
 },
 "nbformat": 4,
 "nbformat_minor": 4
}
